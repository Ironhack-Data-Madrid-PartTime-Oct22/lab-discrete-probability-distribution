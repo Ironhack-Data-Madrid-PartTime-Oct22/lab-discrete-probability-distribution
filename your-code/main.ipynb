{
 "cells": [
  {
   "cell_type": "markdown",
   "metadata": {},
   "source": [
    "# Before your start:\n",
    "\n",
    "    Read the README.md file\n",
    "    Comment as much as you can and use the resources (README.md file)\n",
    "    Happy learning!\n",
    "\n",
    "*Notes:* \n",
    "\n",
    "- Solve the questions with python.\n",
    "\n",
    "- Round the final answer to three decimal places."
   ]
  },
  {
   "cell_type": "code",
   "execution_count": 4,
   "metadata": {},
   "outputs": [],
   "source": [
    "from scipy.stats import bernoulli\n",
    "from scipy.stats import binom\n",
    "from scipy.stats import poisson\n",
    "import seaborn as sns\n",
    "import matplotlib.pyplot as plt\n",
    "import numpy as np"
   ]
  },
  {
   "attachments": {},
   "cell_type": "markdown",
   "metadata": {},
   "source": [
    "## Bernoulli's Distribution\n",
    "\n",
    "In a basket containing 100 fruits, there are 60 apples and 40 oranges. \n",
    "\n",
    "A fruit is picked randomly from the basket. \n",
    "\n",
    "1. **What is the probability that the fruit is apple?**\n",
    "1. **What is the probability that it is an orange?**"
   ]
  },
  {
   "cell_type": "code",
   "execution_count": 7,
   "metadata": {},
   "outputs": [
    {
     "name": "stdout",
     "output_type": "stream",
     "text": [
      "\n",
      "    probabilidad de que sea manzana: 0.6\n",
      "    probabilidad de que sea naranja: 0.4\n",
      "\n"
     ]
    }
   ],
   "source": [
    "\"\"\"\n",
    "Calculate:\n",
    "p = probability that the fruit is an apple \n",
    "q = probability that the fruit is an orange\n",
    "\"\"\"\n",
    "p = 60/100\n",
    "q = 1 - p\n",
    "print(f'''\n",
    "    probabilidad de que sea manzana: {p}\n",
    "    probabilidad de que sea naranja: {q}\n",
    "''')\n"
   ]
  },
  {
   "cell_type": "markdown",
   "metadata": {},
   "source": [
    "Now we take a random sample of 20 fruits from the basket. After each fruit is taken, a new fruit of the same type is replaced in the basket. Therefore, every time we are taking 1 fruit from 100 fruits. \n",
    "\n",
    "1. **What is the probability that the first 5 fruits are all apples?**\n",
    "\n",
    "1. **What is the probability that the first 5 fruits are all apples and the next 15 fruits are all oranges?**\n",
    "\n",
    "You can include the `p` and `q` probabilities you previous calculated in your solution."
   ]
  },
  {
   "cell_type": "code",
   "execution_count": 5,
   "metadata": {},
   "outputs": [
    {
     "data": {
      "text/plain": [
       "array([1, 0, 0, 1, 1, 1, 1, 0, 0, 1, 0, 1, 0, 1, 1, 0, 0, 1, 0, 0],\n",
       "      dtype=int64)"
      ]
     },
     "execution_count": 5,
     "metadata": {},
     "output_type": "execute_result"
    }
   ],
   "source": [
    "# your code here\n",
    "my_bernoulli = bernoulli(p)\n",
    "my_bernoulli_20 = my_bernoulli.rvs(size = 20)\n",
    "my_bernoulli_20"
   ]
  },
  {
   "cell_type": "code",
   "execution_count": 23,
   "metadata": {},
   "outputs": [
    {
     "name": "stdout",
     "output_type": "stream",
     "text": [
      "La probabilidad de que las 5 primeras sean manzanas es de: 0.078\n",
      "La probabilidad de que las 5 primeras sean manzanas y las 15 siguientes naranjas es de: 8.349416423424006e-08\n"
     ]
    }
   ],
   "source": [
    "manzanas = p ** 5\n",
    "\n",
    "print(f'La probabilidad de que las 5 primeras sean manzanas es de: {manzanas:.3f}')\n",
    "\n",
    "manzanas_naranjas = p ** 5 * q ** 15\n",
    "\n",
    "print(f'La probabilidad de que las 5 primeras sean manzanas y las 15 siguientes naranjas es de: {manzanas_naranjas}')"
   ]
  },
  {
   "cell_type": "markdown",
   "metadata": {},
   "source": [
    "## Binomial Distribution\n",
    "\n",
    "Similar to the above problem, this time again we randomly sample 20 fruits.\n",
    "\n",
    "**What is the probability that this time the sample contains 5 apples and 15 oranges?**\n",
    "\n",
    "Please note that this time the order of the fruits being picked does not matter."
   ]
  },
  {
   "cell_type": "code",
   "execution_count": 12,
   "metadata": {},
   "outputs": [
    {
     "data": {
      "text/plain": [
       "<scipy.stats._distn_infrastructure.rv_discrete_frozen at 0x1f597a02ef0>"
      ]
     },
     "execution_count": 12,
     "metadata": {},
     "output_type": "execute_result"
    }
   ],
   "source": [
    "# your code here\n",
    "import math\n",
    "N = 20\n",
    "\n",
    "my_binomial = binom(N, p)"
   ]
  },
  {
   "cell_type": "code",
   "execution_count": 19,
   "metadata": {},
   "outputs": [
    {
     "name": "stdout",
     "output_type": "stream",
     "text": [
      "La probabilidad de obtener exactamente 5 manzanas y 15 naranjas en una muestra de 20 frutas es 0.0001.\n"
     ]
    }
   ],
   "source": [
    "\n",
    "coef_binomial = math.factorial(N) / (math.factorial(5) * math.factorial(N - 5))\n",
    "apples=5\n",
    "# Calcular la probabilidad de obtener exactamente 5 manzanas en una muestra de 20 frutas\n",
    "probabilidad_manzanas = coef_binomial * p**apples * (1-p)**(N-apples)\n",
    "\n",
    "# Calcular la probabilidad de obtener exactamente 15 naranjas en una muestra de 20 frutas\n",
    "probabilidad_naranjas = coef_binomial * p**(N-apples) * (1-p)**(N-(N-apples))\n",
    "\n",
    "# Calcular la probabilidad conjunta de obtener 5 manzanas y 15 naranjas en una muestra de 20 frutas\n",
    "probabilidad_total = probabilidad_manzanas * probabilidad_naranjas\n",
    "\n",
    "print(f\"La probabilidad de obtener exactamente 5 manzanas y 15 naranjas en una muestra de 20 frutas es {probabilidad_total:.4f}.\")"
   ]
  },
  {
   "cell_type": "markdown",
   "metadata": {},
   "source": [
    "In the lesson we also discussed CDF (cumulative distribution function). In the context of the above problem, **what is the probability that less than 5 fruits picked are apples?**\n",
    "\n",
    "Write the formula and calculate the probability below."
   ]
  },
  {
   "cell_type": "code",
   "execution_count": 24,
   "metadata": {},
   "outputs": [
    {
     "name": "stdout",
     "output_type": "stream",
     "text": [
      "la probabilidad de que menos de 5 frutas de las 20 elegidas sean manzanas es de: 0.002\n"
     ]
    }
   ],
   "source": [
    "print(f\"la probabilidad de que menos de 5 frutas de las 20 elegidas sean manzanas es de: {my_binomial.cdf(5):.3f}\")"
   ]
  },
  {
   "cell_type": "markdown",
   "metadata": {},
   "source": [
    "**Plot the PDF (probability distributiom function) for the above binomial distribution.**\n",
    "\n",
    "*Hint: The range of x in a binomial distribution is from `0` to `n`.*"
   ]
  },
  {
   "cell_type": "code",
   "execution_count": 26,
   "metadata": {},
   "outputs": [],
   "source": [
    "# your code here\n",
    "# Please label the axes and give a title to the plot \n",
    "numero_manzanas = np.arange(1,N+1)\n",
    "probabilidad = my_binomial.pmf(numero_manzanas)\n"
   ]
  },
  {
   "cell_type": "code",
   "execution_count": 28,
   "metadata": {},
   "outputs": [
    {
     "data": {
      "image/png": "[encoded data removed]",
      "text/plain": [
       "<Figure size 640x480 with 1 Axes>"
      ]
     },
     "metadata": {},
     "output_type": "display_data"
    }
   ],
   "source": [
    "plt.plot(numero_manzanas, my_binomial.pmf(numero_manzanas), 'o')\n",
    "plt.vlines(numero_manzanas, 0, probabilidad)\n",
    "plt.title(\"Distribución de probabilidad de sacar una manzana\")\n",
    "plt.xlabel(\"Numero de manzanas\")\n",
    "plt.ylabel(\"Probabilidad\");"
   ]
  },
  {
   "cell_type": "markdown",
   "metadata": {},
   "source": [
    "## Poisson Distribution\n",
    "\n",
    "In this challenge you are required to use the Math library in python to solve the problems.\n",
    "\n",
    "In the UEFA champions league tournament, the average number of goals scored in a match is 2.3. \n",
    "\n",
    "**What is the probability that the number of goals scored in a match is 5?**\n",
    "\n",
    "*Hint: Use the exp() in the math library*\n",
    "\n",
    "And to calculate the factorial, you can use the following code:\n",
    "\n",
    "```python\n",
    "import math\n",
    "math.factorial(n) # n is the number you want to find the factorial of\n",
    "```"
   ]
  },
  {
   "cell_type": "code",
   "execution_count": 29,
   "metadata": {},
   "outputs": [],
   "source": [
    "average_goals = 2.3\n",
    "\n",
    "my_poisson = poisson(mu = average_goals) "
   ]
  },
  {
   "cell_type": "code",
   "execution_count": 31,
   "metadata": {},
   "outputs": [
    {
     "name": "stdout",
     "output_type": "stream",
     "text": [
      "la probabilidad de marcar 5 goles en un partido de UEFA es de: 0.054\n"
     ]
    }
   ],
   "source": [
    "goal = 5 \n",
    "probabilidad_gol = (math.exp(-average_goals) * (average_goals**goal)) / math.factorial(goal)\n",
    "print(f'la probabilidad de marcar 5 goles en un partido de UEFA es de: {probabilidad_gol:.3f}')"
   ]
  },
  {
   "cell_type": "markdown",
   "metadata": {},
   "source": [
    "**Draw a poisson probability distribution plot for the number of goals to be between 0 to 10.**"
   ]
  },
  {
   "cell_type": "code",
   "execution_count": 32,
   "metadata": {},
   "outputs": [],
   "source": [
    "# your code here\n",
    "# Please label the axes and give a title to the plot \n",
    "numero_goles = np.arange(0,11)\n",
    "goles_marcados = my_poisson.pmf(numero_goles)\n"
   ]
  },
  {
   "cell_type": "code",
   "execution_count": 33,
   "metadata": {},
   "outputs": [
    {
     "data": {
      "image/png": "[encoded data removed]",
      "text/plain": [
       "<Figure size 640x480 with 1 Axes>"
      ]
     },
     "metadata": {},
     "output_type": "display_data"
    }
   ],
   "source": [
    "plt.plot(numero_goles, my_poisson.pmf(numero_goles), 'o')\n",
    "plt.vlines(numero_goles, 0, goles_marcados)\n",
    "plt.title(\"Distribución goles en partidos de UEFA\")\n",
    "plt.xlabel(\"Número de goles\")\n",
    "plt.ylabel(\"Probabilidad\");"
   ]
  }
 ],
 "metadata": {
  "kernelspec": {
   "display_name": "stl",
   "language": "python",
   "name": "python3"
  },
  "language_info": {
   "codemirror_mode": {
    "name": "ipython",
    "version": 3
   },
   "file_extension": ".py",
   "mimetype": "text/x-python",
   "name": "python",
   "nbconvert_exporter": "python",
   "pygments_lexer": "ipython3",
   "version": "3.10.9"
  },
  "vscode": {
   "interpreter": {
    "hash": "afdf8fa31c255e6359c6c8d24f85f2621b90c8a6330e0fb9889f6b409bb8a462"
   }
  }
 },
 "nbformat": 4,
 "nbformat_minor": 2
}
