{
 "cells": [
  {
   "cell_type": "markdown",
   "metadata": {},
   "source": [
    "# Before your start:\n",
    "\n",
    "    Read the README.md file\n",
    "    Comment as much as you can and use the resources (README.md file)\n",
    "    Happy learning!\n",
    "\n",
    "*Notes:* \n",
    "\n",
    "- Solve the questions with python.\n",
    "\n",
    "- Round the final answer to three decimal places."
   ]
  },
  {
   "cell_type": "markdown",
   "metadata": {},
   "source": [
    "## Bernoulli's Distribution\n",
    "\n",
    "In a basket containing 100 fruits, there are 60 apples and 40 oranges. \n",
    "\n",
    "A fruit is picked randomly from the basket. \n",
    "\n",
    "1. **What is the probability that the fruit is apple?**\n",
    "1. **What is the probability that it is an orange?**"
   ]
  },
  {
   "cell_type": "code",
   "execution_count": 21,
   "metadata": {},
   "outputs": [
    {
     "name": "stdout",
     "output_type": "stream",
     "text": [
      "\n",
      "    the probability that the fruit is an apple is: 0.6\n",
      "    the probability that the fruit is an orange is: 0.4\n",
      "\n"
     ]
    }
   ],
   "source": [
    "from scipy.stats import bernoulli\n",
    "from scipy.stats import binom\n",
    "from scipy.stats import poisson\n",
    "import seaborn as sns\n",
    "import matplotlib.pyplot as plt\n",
    "import numpy as np\n",
    "\n",
    "\n",
    "\"\"\"\n",
    "Calculate:\n",
    "p = probability that the fruit is an apple \n",
    "q = probability that the fruit is an orange\n",
    "\"\"\"\n",
    "p_apple = 0.6\n",
    "q_orange = 1 - 0.6\n",
    "\n",
    "print(f'''\n",
    "    the probability that the fruit is an apple is: {p_apple}\n",
    "    the probability that the fruit is an orange is: {q_orange}\n",
    "''')\n"
   ]
  },
  {
   "cell_type": "markdown",
   "metadata": {},
   "source": [
    "Now we take a random sample of 20 fruits from the basket. After each fruit is taken, a new fruit of the same type is replaced in the basket. Therefore, every time we are taking 1 fruit from 100 fruits. \n",
    "\n",
    "1. **What is the probability that the first 5 fruits are all apples?**\n",
    "\n",
    "1. **What is the probability that the first 5 fruits are all apples and the next 15 fruits are all oranges?**\n",
    "\n",
    "You can include the `p` and `q` probabilities you previous calculated in your solution."
   ]
  },
  {
   "cell_type": "code",
   "execution_count": 12,
   "metadata": {},
   "outputs": [
    {
     "data": {
      "text/plain": [
       "array([0, 1, 1, 1, 1, 1, 1, 1, 1, 0, 1, 1, 1, 1, 1, 1, 1, 1, 1, 0],\n",
       "      dtype=int64)"
      ]
     },
     "execution_count": 12,
     "metadata": {},
     "output_type": "execute_result"
    }
   ],
   "source": [
    "my_bernoulli = bernoulli(p_apple)\n",
    "\n",
    "muestra_20 = my_bernoulli.rvs(size=20)\n",
    "muestra_20"
   ]
  },
  {
   "cell_type": "code",
   "execution_count": 22,
   "metadata": {},
   "outputs": [
    {
     "name": "stdout",
     "output_type": "stream",
     "text": [
      "\n",
      "probability of getting an apple from the first 5 fruits: 0.07775999999999998\n",
      "probability that the first 5 fruits are apples and the 15 last fruits are oranges: 0.07776107374182398\n",
      "\n"
     ]
    }
   ],
   "source": [
    "print(f'''\n",
    "probability of getting an apple from the first 5 fruits: {p_apple** 5}\n",
    "probability that the first 5 fruits are apples and the 15 last fruits are oranges: {p_apple ** 5 + q_orange ** 15}\n",
    "''')"
   ]
  },
  {
   "cell_type": "markdown",
   "metadata": {},
   "source": [
    "## Binomial Distribution\n",
    "\n",
    "Similar to the above problem, this time again we randomly sample 20 fruits.\n",
    "\n",
    "**What is the probability that this time the sample contains 5 apples and 15 oranges?**\n",
    "\n",
    "Please note that this time the order of the fruits being picked does not matter."
   ]
  },
  {
   "cell_type": "code",
   "execution_count": 29,
   "metadata": {},
   "outputs": [],
   "source": [
    "import math"
   ]
  },
  {
   "cell_type": "code",
   "execution_count": 30,
   "metadata": {},
   "outputs": [
    {
     "name": "stdout",
     "output_type": "stream",
     "text": [
      "\n",
      "probability that the first 5 fruits are apples and the 15 last fruits are oranges, in a 20 random sample: \n",
      "0.0012944935222876579\n",
      "\n"
     ]
    }
   ],
   "source": [
    "N = 20\n",
    "my_binomial = binom(N,p_apple)\n",
    "#my_binomial.pmf(5)\n",
    "print(f'''\n",
    "probability that the first 5 fruits are apples and the 15 last fruits are oranges, in a 20 random sample: \n",
    "{(math.factorial(N) / (math.factorial(5)* math.factorial(N-5))) * p_apple**5 * q_orange**(N-5)}\n",
    "''')\n"
   ]
  },
  {
   "cell_type": "markdown",
   "metadata": {},
   "source": [
    "In the lesson we also discussed CDF (cumulative distribution function). In the context of the above problem, **what is the probability that less than 5 fruits picked are apples?**\n",
    "\n",
    "Write the formula and calculate the probability below."
   ]
  },
  {
   "cell_type": "code",
   "execution_count": 28,
   "metadata": {},
   "outputs": [
    {
     "name": "stdout",
     "output_type": "stream",
     "text": [
      "\n",
      "probability that less than 5 fruits picked are apples: 0.0016115246434562898\n",
      "\n"
     ]
    }
   ],
   "source": [
    "print(f'''\n",
    "probability that less than 5 fruits picked are apples: {my_binomial.cdf(5)}\n",
    "''')"
   ]
  },
  {
   "cell_type": "markdown",
   "metadata": {},
   "source": [
    "**Plot the PDF (probability distributiom function) for the above binomial distribution.**\n",
    "\n",
    "*Hint: The range of x in a binomial distribution is from `0` to `n`.*"
   ]
  },
  {
   "cell_type": "code",
   "execution_count": 32,
   "metadata": {},
   "outputs": [
    {
     "data": {
      "text/plain": [
       "array([3.29853488e-07, 4.70041221e-06, 4.23037099e-05, 2.69686150e-04,\n",
       "       1.29449352e-03, 4.85435071e-03, 1.45630521e-02, 3.54974396e-02,\n",
       "       7.09948791e-02, 1.17141551e-01, 1.59738478e-01, 1.79705788e-01,\n",
       "       1.65882266e-01, 1.24411699e-01, 7.46470195e-02, 3.49907904e-02,\n",
       "       1.23496907e-02, 3.08742268e-03, 4.87487792e-04, 3.65615844e-05])"
      ]
     },
     "execution_count": 32,
     "metadata": {},
     "output_type": "execute_result"
    }
   ],
   "source": [
    "N_apples = np.arange(1,N+1)\n",
    "prob = my_binomial.pmf(N_apples)\n",
    "prob"
   ]
  },
  {
   "cell_type": "code",
   "execution_count": 37,
   "metadata": {},
   "outputs": [
    {
     "data": {
      "image/png": "[encoded data removed]",
      "text/plain": [
       "<Figure size 640x480 with 1 Axes>"
      ]
     },
     "metadata": {},
     "output_type": "display_data"
    }
   ],
   "source": [
    "plt.plot(N_apples, my_binomial.pmf(N_apples), 'o')\n",
    "plt.vlines(N_apples, 0, prob, colors='black', lw=5, alpha=0.8)\n",
    "plt.title(\"Probability of getting an apple\")\n",
    "plt.xlabel(\"Quantity apples (#)\")\n",
    "plt.ylabel(\"Probability (%)\");"
   ]
  },
  {
   "cell_type": "markdown",
   "metadata": {},
   "source": [
    "## Poisson Distribution\n",
    "\n",
    "In this challenge you are required to use the Math library in python to solve the problems.\n",
    "\n",
    "In the UEFA champions league tournament, the average number of goals scored in a match is 2.3. \n",
    "\n",
    "**What is the probability that the number of goals scored in a match is 5?**\n",
    "\n",
    "*Hint: Use the exp() in the math library*\n",
    "\n",
    "And to calculate the factorial, you can use the following code:\n",
    "\n",
    "```python\n",
    "import math\n",
    "math.factorial(n) # n is the number you want to find the factorial of\n",
    "```"
   ]
  },
  {
   "cell_type": "code",
   "execution_count": 40,
   "metadata": {},
   "outputs": [
    {
     "name": "stdout",
     "output_type": "stream",
     "text": [
      "The probability of scoring 5 goals in a UEFA match is: 0.0537750255819468\n"
     ]
    }
   ],
   "source": [
    "avg_goals = 2.3\n",
    "\n",
    "my_poisson = poisson(mu = avg_goals)\n",
    "goal = 5 \n",
    "chance_5_goals = (math.exp(-avg_goals) * (avg_goals**goal)) / math.factorial(goal)\n",
    "print(f'The probability of scoring 5 goals in a UEFA match is: {chance_5_goals}')"
   ]
  },
  {
   "cell_type": "markdown",
   "metadata": {},
   "source": [
    "**Draw a poisson probability distribution plot for the number of goals to be between 0 to 10.**"
   ]
  },
  {
   "cell_type": "code",
   "execution_count": 41,
   "metadata": {},
   "outputs": [
    {
     "data": {
      "text/plain": [
       "array([ 0,  1,  2,  3,  4,  5,  6,  7,  8,  9, 10])"
      ]
     },
     "execution_count": 41,
     "metadata": {},
     "output_type": "execute_result"
    }
   ],
   "source": [
    "num_goals = np.arange(0,11)\n",
    "num_goals"
   ]
  },
  {
   "cell_type": "code",
   "execution_count": 42,
   "metadata": {},
   "outputs": [
    {
     "data": {
      "text/plain": [
       "array([1.00258844e-01, 2.30595341e-01, 2.65184642e-01, 2.03308225e-01,\n",
       "       1.16902230e-01, 5.37750256e-02, 2.06137598e-02, 6.77309251e-03,\n",
       "       1.94726410e-03, 4.97634158e-04, 1.14455856e-04])"
      ]
     },
     "execution_count": 42,
     "metadata": {},
     "output_type": "execute_result"
    }
   ],
   "source": [
    "scored_goals = my_poisson.pmf(num_goals)\n",
    "scored_goals"
   ]
  },
  {
   "cell_type": "code",
   "execution_count": null,
   "metadata": {},
   "outputs": [],
   "source": []
  },
  {
   "cell_type": "code",
   "execution_count": 44,
   "metadata": {},
   "outputs": [
    {
     "data": {
      "image/png": "[encoded data removed]",
      "text/plain": [
       "<Figure size 640x480 with 1 Axes>"
      ]
     },
     "metadata": {},
     "output_type": "display_data"
    }
   ],
   "source": [
    "plt.plot(num_goals, my_poisson.pmf(num_goals), 'bo')\n",
    "plt.vlines(num_goals, 0, scored_goals, colors='black', lw=5, alpha=0.7)\n",
    "plt.title(\"Goals in the UEFA tournament\")\n",
    "plt.xlabel(\"Quantity of goals (#)\")\n",
    "plt.ylabel(\"Probability (%)\");"
   ]
  },
  {
   "cell_type": "code",
   "execution_count": null,
   "metadata": {},
   "outputs": [],
   "source": []
  }
 ],
 "metadata": {
  "kernelspec": {
   "display_name": "IRONHACK2022",
   "language": "python",
   "name": "python3"
  },
  "language_info": {
   "codemirror_mode": {
    "name": "ipython",
    "version": 3
   },
   "file_extension": ".py",
   "mimetype": "text/x-python",
   "name": "python",
   "nbconvert_exporter": "python",
   "pygments_lexer": "ipython3",
   "version": "3.9.13"
  },
  "vscode": {
   "interpreter": {
    "hash": "c09c9e2c7a08b984c27f3782a6af9d34b9341045b9e50a962f3f12594a45803d"
   }
  }
 },
 "nbformat": 4,
 "nbformat_minor": 2
}
