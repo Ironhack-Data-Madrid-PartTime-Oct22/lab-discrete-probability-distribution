{
 "cells": [
  {
   "cell_type": "markdown",
   "metadata": {},
   "source": [
    "# Before your start:\n",
    "\n",
    "    Read the README.md file\n",
    "    Comment as much as you can and use the resources (README.md file)\n",
    "    Happy learning!\n",
    "\n",
    "*Notes:* \n",
    "\n",
    "- Solve the questions with python.\n",
    "\n",
    "- Round the final answer to three decimal places."
   ]
  },
  {
   "cell_type": "markdown",
   "metadata": {},
   "source": [
    "## Bernoulli's Distribution\n",
    "\n",
    "In a basket containing 100 fruits, there are 60 apples and 40 oranges. \n",
    "\n",
    "A fruit is picked randomly from the basket. \n",
    "\n",
    "1. **What is the probability that the fruit is apple?**\n",
    "1. **What is the probability that it is an orange?**"
   ]
  },
  {
   "cell_type": "code",
   "execution_count": 76,
   "metadata": {},
   "outputs": [],
   "source": [
    "from scipy.stats import bernoulli\n",
    "from scipy.stats import binom\n",
    "from scipy.stats import poisson\n",
    "import seaborn as sns\n",
    "import matplotlib.pyplot as plt\n",
    "import numpy as np\n",
    "import math \n",
    "\"\"\"\n",
    "Calculate:\n",
    "p = probability that the fruit is an apple \n",
    "q = probability that the fruit is an orange\n",
    "\"\"\"\n",
    "\n",
    "# your code here\n",
    "p = 0.6\n",
    "q = 1 - p\n"
   ]
  },
  {
   "cell_type": "markdown",
   "metadata": {},
   "source": [
    "Now we take a random sample of 20 fruits from the basket. After each fruit is taken, a new fruit of the same type is replaced in the basket. Therefore, every time we are taking 1 fruit from 100 fruits. \n",
    "\n",
    "1. **What is the probability that the first 5 fruits are all apples?**\n",
    "\n",
    "1. **What is the probability that the first 5 fruits are all apples and the next 15 fruits are all oranges?**\n",
    "\n",
    "You can include the `p` and `q` probabilities you previous calculated in your solution."
   ]
  },
  {
   "cell_type": "code",
   "execution_count": 42,
   "metadata": {},
   "outputs": [
    {
     "name": "stdout",
     "output_type": "stream",
     "text": [
      "The probability for the first 5 fruits to be all apples are 7.776 %\n",
      "And the probability for the next 15 fruits to be oranges is 8.349416423424014e-06 %\n"
     ]
    }
   ],
   "source": [
    "# your code here\n",
    "N = 5\n",
    "Y = 15\n",
    "my_binomial = binom(N, p)\n",
    "my_binomial2 = binom (Y, q)\n",
    "print(f\"The probability for the first 5 fruits to be all apples are\",my_binomial.pmf(5)*100,\"%\")\n",
    "print(f\"And the probability for the next 15 fruits to be oranges is\",(my_binomial.pmf(5)*my_binomial2.pmf(15)*100),\"%\")"
   ]
  },
  {
   "cell_type": "markdown",
   "metadata": {},
   "source": [
    "## Binomial Distribution\n",
    "\n",
    "Similar to the above problem, this time again we randomly sample 20 fruits.\n",
    "\n",
    "**What is the probability that this time the sample contains 5 apples and 15 oranges?**\n",
    "\n",
    "Please note that this time the order of the fruits being picked does not matter."
   ]
  },
  {
   "cell_type": "code",
   "execution_count": 59,
   "metadata": {},
   "outputs": [
    {
     "name": "stdout",
     "output_type": "stream",
     "text": [
      "The apple percentage is 0.12944935222876577 %\n",
      "The orange percentage is 99.87055064777124 %\n"
     ]
    }
   ],
   "source": [
    "# your code here\n",
    "Sample = 20\n",
    "Apple_binom = binom(Sample,p)\n",
    "Apple_percentage = Apple_binom.pmf(5) * 100\n",
    "Orange_percentage = 100 - Apple_percentage\n",
    "print(f\"The apple percentage is\",Apple_percentage,\"%\")\n",
    "print(f\"The orange percentage is\",Orange_percentage,\"%\")\n"
   ]
  },
  {
   "cell_type": "markdown",
   "metadata": {},
   "source": [
    "In the lesson we also discussed CDF (cumulative distribution function). In the context of the above problem, **what is the probability that less than 5 fruits picked are apples?**\n",
    "\n",
    "Write the formula and calculate the probability below."
   ]
  },
  {
   "cell_type": "code",
   "execution_count": 67,
   "metadata": {},
   "outputs": [
    {
     "name": "stdout",
     "output_type": "stream",
     "text": [
      "The probability that less than 5 fruits are apples are 0.03170311211686304 %\n"
     ]
    }
   ],
   "source": [
    "# your code here\n",
    "Apple_CDF = Apple_binom.cdf(4)*100\n",
    "print(f\"The probability that less than 5 fruits are apples are\",Apple_CDF,\"%\")"
   ]
  },
  {
   "cell_type": "markdown",
   "metadata": {},
   "source": [
    "**Plot the PDF (probability distributiom function) for the above binomial distribution.**\n",
    "\n",
    "*Hint: The range of x in a binomial distribution is from `0` to `n`.*"
   ]
  },
  {
   "cell_type": "code",
   "execution_count": 75,
   "metadata": {},
   "outputs": [
    {
     "data": {
      "image/png": "[encoded data removed]",
      "text/plain": [
       "<Figure size 640x480 with 1 Axes>"
      ]
     },
     "metadata": {},
     "output_type": "display_data"
    }
   ],
   "source": [
    "# your code here\n",
    "# Please label the axes and give a title to the plot \n",
    "\n",
    "A = 20\n",
    "my_binom = binom(A, p)\n",
    "manzanas = np.arange(0,A)\n",
    "probability = my_binom.pmf(manzanas)\n",
    "plt.plot(manzanas, my_binom.pmf(manzanas), 'o')\n",
    "plt.vlines(manzanas, 0, probability, colors='black', lw=5, alpha=0.5);"
   ]
  },
  {
   "cell_type": "markdown",
   "metadata": {},
   "source": [
    "## Poisson Distribution\n",
    "\n",
    "In this challenge you are required to use the Math library in python to solve the problems.\n",
    "\n",
    "In the UEFA champions league tournament, the average number of goals scored in a match is 2.3. \n",
    "\n",
    "**What is the probability that the number of goals scored in a match is 5?**\n",
    "\n",
    "*Hint: Use the exp() in the math library*\n",
    "\n",
    "And to calculate the factorial, you can use the following code:\n",
    "\n",
    "```python\n",
    "import math\n",
    "math.factorial(n) # n is the number you want to find the factorial of\n",
    "```"
   ]
  },
  {
   "cell_type": "code",
   "execution_count": 83,
   "metadata": {},
   "outputs": [
    {
     "data": {
      "text/plain": [
       "array([0, 2, 3, 2, 1, 4, 2, 3, 1, 1, 4, 3, 1, 2, 6, 3, 2, 2, 4, 1, 4, 2,\n",
       "       4, 0, 3, 2, 1, 4, 3, 3, 3, 4, 2, 1, 1, 1, 1, 1, 5, 3, 2, 2, 3, 5,\n",
       "       1, 2, 3, 3, 1, 3, 2, 2, 1, 2, 2, 1, 4, 1, 3, 3, 5, 5, 2, 3, 2, 0,\n",
       "       1, 4, 2, 2, 4, 5, 1, 2, 2, 2, 2, 1, 7, 1, 2, 1, 2, 0, 4, 3, 1, 4,\n",
       "       2, 3, 1, 2, 1, 1, 1, 6, 2, 2, 0, 4], dtype=int64)"
      ]
     },
     "execution_count": 83,
     "metadata": {},
     "output_type": "execute_result"
    }
   ],
   "source": [
    "# your code here \n",
    "avg_score = 2.3\n",
    "UEFA_match = np.arange(0,15)\n",
    "my_poisson = poisson(mu=avg_score)\n",
    "my_poisson.rvs(size=100)\n"
   ]
  },
  {
   "cell_type": "markdown",
   "metadata": {},
   "source": [
    "**Draw a poisson probability distribution plot for the number of goals to be between 0 to 10.**"
   ]
  },
  {
   "cell_type": "code",
   "execution_count": null,
   "metadata": {},
   "outputs": [],
   "source": [
    "# your code here\n",
    "# Please label the axes and give a title to the plot "
   ]
  }
 ],
 "metadata": {
  "kernelspec": {
   "display_name": "Python 3",
   "language": "python",
   "name": "python3"
  },
  "language_info": {
   "codemirror_mode": {
    "name": "ipython",
    "version": 3
   },
   "file_extension": ".py",
   "mimetype": "text/x-python",
   "name": "python",
   "nbconvert_exporter": "python",
   "pygments_lexer": "ipython3",
   "version": "3.7.3"
  }
 },
 "nbformat": 4,
 "nbformat_minor": 2
}
